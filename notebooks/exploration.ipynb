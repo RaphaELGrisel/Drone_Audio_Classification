{
 "cells": [
  {
   "cell_type": "markdown",
   "metadata": {},
   "source": [
    "Audio dataset exploration for Drone Detection task:\n",
    "\n",
    "The dataset is composed by two types of audio recordings. \n",
    "Yes_drone :\n",
    "Unknown"
   ]
  },
  {
   "cell_type": "code",
   "execution_count": 31,
   "metadata": {},
   "outputs": [],
   "source": [
    "import matplotlib.pyplot as plt \n",
    "import numpy as np\n",
    "import scipy\n",
    "import scipy.io\n",
    "import os"
   ]
  },
  {
   "cell_type": "code",
   "execution_count": 3,
   "metadata": {},
   "outputs": [],
   "source": [
    "file = \"/home/raphalinux/PycharmProjects/pythonProject/projet_sys/data/Binary_Drone_Audio\""
   ]
  },
  {
   "cell_type": "code",
   "execution_count": 4,
   "metadata": {},
   "outputs": [],
   "source": [
    "from scipy.io import wavfile"
   ]
  },
  {
   "cell_type": "code",
   "execution_count": 14,
   "metadata": {},
   "outputs": [],
   "source": [
    "audio_info={}\n",
    "\n",
    "for class_name in os.listdir(file):\n",
    "    class_path = os.path.join(file,class_name)\n",
    "\n",
    "    if os.path.isdir(class_path):\n",
    "        file_count = 0\n",
    "        durations = []\n",
    "        frame_rates = []\n",
    "\n",
    "        for file_name in os.listdir(class_path):\n",
    "            if file_name.endswith(\".wav\"):\n",
    "                file_path = os.path.join(class_path,file_name)\n",
    "\n",
    "                try:\n",
    "                    sample_rate , audio = wavfile.read(file_path)\n",
    "                    file_count+=1\n",
    "                    frame_rates.append(sample_rate)\n",
    "                    durations.append(len(audio)/sample_rate)\n",
    "\n",
    "                except Exception as e:\n",
    "                    print(f\"Error when reading the file {file_name} : {e}\")\n",
    "                \n",
    "    if file_count > 0:\n",
    "        audio_info[class_name] = {\n",
    "            \"file_number\" : file_count,\n",
    "            \"mean_duration\" : np.mean(durations),\n",
    "            \"mean_sample_rate\" : np.mean(sample_rate),\n",
    "            \"max_duration\" : np.max(durations),\n",
    "            \"min_duration\" : np.min(durations)\n",
    "\n",
    "        }"
   ]
  },
  {
   "cell_type": "code",
   "execution_count": 15,
   "metadata": {},
   "outputs": [
    {
     "name": "stdout",
     "output_type": "stream",
     "text": [
      "\n",
      "Classe: yes_drone\n",
      " - Nombre de fichiers : 1332\n",
      " - Durée moyenne : 1.00 sec\n",
      " - Durée max : 1.02 sec\n",
      " - Durée min : 0.65 sec\n",
      " - Fréquence d’échantillonnage moyenne : 16000 Hz\n",
      "\n",
      "Classe: unknown\n",
      " - Nombre de fichiers : 10372\n",
      " - Durée moyenne : 1.03 sec\n",
      " - Durée max : 5.12 sec\n",
      " - Durée min : 0.00 sec\n",
      " - Fréquence d’échantillonnage moyenne : 16000 Hz\n"
     ]
    }
   ],
   "source": [
    "for class_name, info in audio_info.items():\n",
    "    print(f\"\\nClasse: {class_name}\")\n",
    "    print(f\" - Nombre de fichiers : {info['file_number']}\")\n",
    "    print(f\" - Durée moyenne : {info['mean_duration']:.2f} sec\")\n",
    "    print(f\" - Durée max : {info['max_duration']:.2f} sec\")\n",
    "    print(f\" - Durée min : {info['min_duration']:.2f} sec\")\n",
    "    print(f\" - Fréquence d’échantillonnage moyenne : {info['mean_sample_rate']:.0f} Hz\")"
   ]
  },
  {
   "cell_type": "code",
   "execution_count": 32,
   "metadata": {},
   "outputs": [],
   "source": [
    "import sys\n",
    "import os\n",
    "sys.path.append(os.path.abspath(os.path.join(os.getcwd(), \"..\", \"src\")))\n",
    "from data_processing import DataProcessing"
   ]
  },
  {
   "cell_type": "code",
   "execution_count": 33,
   "metadata": {},
   "outputs": [
    {
     "ename": "TypeError",
     "evalue": "'module' object is not callable",
     "output_type": "error",
     "traceback": [
      "\u001b[0;31m---------------------------------------------------------------------------\u001b[0m",
      "\u001b[0;31mTypeError\u001b[0m                                 Traceback (most recent call last)",
      "Cell \u001b[0;32mIn[33], line 2\u001b[0m\n\u001b[1;32m      1\u001b[0m dataset_binary \u001b[38;5;241m=\u001b[39m DataProcessing(file)\n\u001b[0;32m----> 2\u001b[0m \u001b[43mdataset_binary\u001b[49m\u001b[38;5;241;43m.\u001b[39;49m\u001b[43mplot_waveform\u001b[49m\u001b[43m(\u001b[49m\u001b[38;5;241;43m4\u001b[39;49m\u001b[43m)\u001b[49m\n",
      "File \u001b[0;32m~/PycharmProjects/pythonProject/projet_sys/src/data_processing.py:31\u001b[0m, in \u001b[0;36mDataProcessing.plot_waveform\u001b[0;34m(self, n, type)\u001b[0m\n\u001b[1;32m     29\u001b[0m \u001b[38;5;28;01mwhile\u001b[39;00m ct \u001b[38;5;241m<\u001b[39mn:\n\u001b[1;32m     30\u001b[0m     audio_path \u001b[38;5;241m=\u001b[39m os\u001b[38;5;241m.\u001b[39mpath\u001b[38;5;241m.\u001b[39mjoin(class_path,file_name)\n\u001b[0;32m---> 31\u001b[0m     sample_rate, audio \u001b[38;5;241m=\u001b[39m \u001b[43mwavfile\u001b[49m\u001b[43m(\u001b[49m\u001b[43maudio_path\u001b[49m\u001b[43m)\u001b[49m\n\u001b[1;32m     32\u001b[0m     plt\u001b[38;5;241m.\u001b[39msubplot(\u001b[38;5;241m1\u001b[39m,n,ct\u001b[38;5;241m+\u001b[39m\u001b[38;5;241m1\u001b[39m)\n\u001b[1;32m     33\u001b[0m     plt\u001b[38;5;241m.\u001b[39mplot(audio)\n",
      "\u001b[0;31mTypeError\u001b[0m: 'module' object is not callable"
     ]
    },
    {
     "data": {
      "text/plain": [
       "<Figure size 1600x1000 with 0 Axes>"
      ]
     },
     "metadata": {},
     "output_type": "display_data"
    }
   ],
   "source": [
    "dataset_binary = DataProcessing(file)\n",
    "dataset_binary.plot_waveform(4)"
   ]
  }
 ],
 "metadata": {
  "kernelspec": {
   "display_name": "projet_sys",
   "language": "python",
   "name": "python3"
  },
  "language_info": {
   "codemirror_mode": {
    "name": "ipython",
    "version": 3
   },
   "file_extension": ".py",
   "mimetype": "text/x-python",
   "name": "python",
   "nbconvert_exporter": "python",
   "pygments_lexer": "ipython3",
   "version": "3.8.10"
  }
 },
 "nbformat": 4,
 "nbformat_minor": 2
}
